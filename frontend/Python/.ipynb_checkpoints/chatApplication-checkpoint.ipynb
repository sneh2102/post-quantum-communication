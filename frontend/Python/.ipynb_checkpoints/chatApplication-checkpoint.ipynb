{
 "cells": [
  {
   "cell_type": "code",
   "execution_count": 1,
   "metadata": {},
   "outputs": [],
   "source": [
    "import tkinter as tk\n",
    "from tkinter import scrolledtext, messagebox\n",
    "import socketio\n",
    "import requests"
   ]
  },
  {
   "cell_type": "code",
   "execution_count": 2,
   "metadata": {},
   "outputs": [],
   "source": [
    "sio = socketio.Client()"
   ]
  },
  {
   "cell_type": "code",
   "execution_count": 3,
   "metadata": {},
   "outputs": [],
   "source": [
    "class ChatApp:\n",
    "    def __init__(self, root, username, token):\n",
    "        self.root = root\n",
    "        self.root.title(f\"Chat Application - {username}\")\n",
    "        self.root.geometry(\"400x600\")\n",
    "        \n",
    "        self.username = username\n",
    "        self.token = token\n",
    "        \n",
    "        # Chat window\n",
    "        self.chat_window = scrolledtext.ScrolledText(root, wrap=tk.WORD, state='disabled', height=20)\n",
    "        self.chat_window.pack(padx=10, pady=10, fill=tk.BOTH, expand=True)\n",
    "\n",
    "        # Text entry box\n",
    "        self.message_entry = tk.Entry(root, width=80)\n",
    "        self.message_entry.pack(side=tk.LEFT, padx=10, pady=10, fill=tk.X, expand=True)\n",
    "\n",
    "        # Send button\n",
    "        self.send_button = tk.Button(root, text=\"Send\", command=self.send_message)\n",
    "        self.send_button.pack(side=tk.RIGHT, padx=10, pady=10)\n",
    "\n",
    "        # Socket.io connection\n",
    "        sio.connect('http://localhost:5000', headers={'Authorization': f'Bearer {token}'})\n",
    "\n",
    "        # Receive messages\n",
    "        sio.on('message', self.receive_message)\n",
    "\n",
    "    def send_message(self):\n",
    "        message = self.message_entry.get().strip()\n",
    "        if message:  # If there's a message, display it\n",
    "            sio.emit('message', {'user': self.username, 'message': message})  # Send message to server\n",
    "            self.append_message(f\"You: {message}\")\n",
    "            self.message_entry.delete(0, tk.END)  # Clear the entry box\n",
    "\n",
    "    def receive_message(self, data):\n",
    "        # Append received message to chat window\n",
    "        self.append_message(f\"{data['user']}: {data['message']}\")\n",
    "\n",
    "    def append_message(self, message):\n",
    "        self.chat_window.config(state='normal')\n",
    "        self.chat_window.insert(tk.END, message + '\\n')\n",
    "        self.chat_window.yview(tk.END)\n",
    "        self.chat_window.config(state='disabled')\n"
   ]
  },
  {
   "cell_type": "code",
   "execution_count": 4,
   "metadata": {},
   "outputs": [],
   "source": [
    "def login():\n",
    "    login_window = tk.Toplevel()\n",
    "    login_window.geometry(\"300x200\")\n",
    "    login_window.title(\"Login\")\n",
    "\n",
    "    tk.Label(login_window, text=\"Email\").pack(pady=5)\n",
    "    email_entry = tk.Entry(login_window)\n",
    "    email_entry.pack(pady=5)\n",
    "\n",
    "    tk.Label(login_window, text=\"Password\").pack(pady=5)\n",
    "    password_entry = tk.Entry(login_window, show=\"*\")\n",
    "    password_entry.pack(pady=5)\n",
    "\n",
    "    def authenticate():\n",
    "        email = email_entry.get().strip()\n",
    "        password = password_entry.get().strip()\n",
    "        \n",
    "        if email and password:\n",
    "            try:\n",
    "                # Send login request to backend\n",
    "                response = requests.post('http://localhost:5000/api/auth/login', json={'email': email, 'password': password})\n",
    "                response_data = response.json()\n",
    "\n",
    "                if response.status_code == 200:\n",
    "                    # Extract token and username\n",
    "                    username = response_data['username']\n",
    "                    token = response_data['token']\n",
    "\n",
    "                    # Open chat window\n",
    "                    login_window.destroy()\n",
    "                    root = tk.Tk()\n",
    "                    app = ChatApp(root, username, token)\n",
    "                    root.mainloop()\n",
    "                else:\n",
    "                    messagebox.showerror(\"Login Failed\", response_data.get('error', 'Unknown error occurred'))\n",
    "            except requests.exceptions.RequestException as e:\n",
    "                messagebox.showerror(\"Login Failed\", \"Server error occurred\")\n",
    "        else:\n",
    "            messagebox.showwarning(\"Input Error\", \"Please enter both email and password\")\n",
    "\n",
    "    tk.Button(login_window, text=\"Login\", command=authenticate).pack(pady=20)"
   ]
  },
  {
   "cell_type": "code",
   "execution_count": 5,
   "metadata": {},
   "outputs": [],
   "source": [
    "if __name__ == \"__main__\":\n",
    "    login()"
   ]
  },
  {
   "cell_type": "code",
   "execution_count": null,
   "metadata": {},
   "outputs": [],
   "source": []
  }
 ],
 "metadata": {
  "kernelspec": {
   "display_name": "Python 3",
   "language": "python",
   "name": "python3"
  },
  "language_info": {
   "codemirror_mode": {
    "name": "ipython",
    "version": 3
   },
   "file_extension": ".py",
   "mimetype": "text/x-python",
   "name": "python",
   "nbconvert_exporter": "python",
   "pygments_lexer": "ipython3",
   "version": "3.8.10"
  }
 },
 "nbformat": 4,
 "nbformat_minor": 4
}
