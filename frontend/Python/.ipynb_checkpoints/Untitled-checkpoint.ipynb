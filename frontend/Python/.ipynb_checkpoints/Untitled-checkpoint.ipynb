{
 "cells": [
  {
   "cell_type": "code",
   "execution_count": 27,
   "metadata": {},
   "outputs": [],
   "source": [
    "import tkinter as tk\n",
    "from tkinter import scrolledtext, messagebox\n",
    "import socketio\n",
    "import requests"
   ]
  },
  {
   "cell_type": "code",
   "execution_count": 10,
   "metadata": {},
   "outputs": [],
   "source": [
    "class ChatApp:\n",
    "    def __init__(self, root):\n",
    "        self.root = root\n",
    "        self.root.title(\"Chat Application\")\n",
    "        self.root.geometry(\"800x900\")\n",
    "        \n",
    "        # Chat window\n",
    "        self.chat_window = scrolledtext.ScrolledText(root, wrap=tk.WORD, state='disabled', height=20)\n",
    "        self.chat_window.pack(padx=10, pady=10, fill=tk.BOTH, expand=True)\n",
    "\n",
    "        # Text entry box\n",
    "        self.message_entry = tk.Entry(root, width=80)\n",
    "        self.message_entry.pack(side=tk.LEFT, padx=10, pady=10, fill=tk.X, expand=True)\n",
    "\n",
    "        # Send button\n",
    "        self.send_button = tk.Button(root, text=\"Send\", command=self.send_message)\n",
    "        self.send_button.pack(side=tk.RIGHT, padx=10, pady=10)\n",
    "\n",
    "    def send_message(self):\n",
    "        message = self.message_entry.get().strip()\n",
    "        \n",
    "        if message:  # If there's a message, display it\n",
    "            self.chat_window.config(state='normal')  # Enable the text widget to insert text\n",
    "            self.chat_window.insert(tk.END, \"You: \" + message + '\\n')\n",
    "            self.chat_window.yview(tk.END)  # Scroll to the end of the text widget\n",
    "            self.chat_window.config(state='disabled')  # Disable the text widget after inserting text\n",
    "            self.message_entry.delete(0, tk.END)  # Clear the entry box\n",
    "\n",
    "if __name__ == \"__main__\":\n",
    "    root = tk.Tk()\n",
    "    app = ChatApp(root)\n",
    "    root.mainloop()"
   ]
  }
 ],
 "metadata": {
  "kernelspec": {
   "display_name": "Python 3",
   "language": "python",
   "name": "python3"
  },
  "language_info": {
   "codemirror_mode": {
    "name": "ipython",
    "version": 3
   },
   "file_extension": ".py",
   "mimetype": "text/x-python",
   "name": "python",
   "nbconvert_exporter": "python",
   "pygments_lexer": "ipython3",
   "version": "3.8.10"
  }
 },
 "nbformat": 4,
 "nbformat_minor": 4
}
